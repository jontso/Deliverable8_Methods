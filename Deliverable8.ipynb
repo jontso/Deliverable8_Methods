{
  "nbformat": 4,
  "nbformat_minor": 0,
  "metadata": {
    "colab": {
      "provenance": [],
      "authorship_tag": "ABX9TyNTEmUXzS4pcButpBFBKVFJ"
    },
    "kernelspec": {
      "name": "python3",
      "display_name": "Python 3"
    },
    "language_info": {
      "name": "python"
    }
  },
  "cells": [
    {
      "cell_type": "code",
      "execution_count": 21,
      "metadata": {
        "id": "LTTjGcq5R0Mq"
      },
      "outputs": [],
      "source": [
        "import numpy as np"
      ]
    },
    {
      "cell_type": "code",
      "source": [
        "def random_list(size):\n",
        "  list = []\n",
        "  for i in range(size):\n",
        "    list.append(np.random.randint(10,50))\n",
        "  return list\n",
        "\n",
        "def sum_random(list):\n",
        "  sum1 = sum(list)\n",
        "  return sum1"
      ],
      "metadata": {
        "id": "saZr1ZNKSPjs"
      },
      "execution_count": 22,
      "outputs": []
    },
    {
      "cell_type": "code",
      "source": [
        "n = int(input(\"Enter an integer between 5 and 15: \"))\n",
        "\n",
        "RandomList = random_list(n)\n",
        "SumRandom = sum_random(RandomList)\n",
        "\n",
        "if 5 <= n <= 15:\n",
        "  print(\"The elements of the array are: \" + str(RandomList))\n",
        "  print(\"The sum is: \" + str(SumRandom))\n",
        "else:\n",
        "  print(\"You did not enter an integer between 5 and 15\")"
      ],
      "metadata": {
        "colab": {
          "base_uri": "https://localhost:8080/"
        },
        "id": "ThTGqBAAUmok",
        "outputId": "83ba4b81-4489-4d1f-ba91-e3e2f225e45e"
      },
      "execution_count": 38,
      "outputs": [
        {
          "output_type": "stream",
          "name": "stdout",
          "text": [
            "Enter an integer between 5 and 15: 10\n",
            "The elements of the array are: [44, 20, 19, 40, 47, 12, 24, 39, 33, 28]\n",
            "The sum is: 306\n"
          ]
        }
      ]
    }
  ]
}